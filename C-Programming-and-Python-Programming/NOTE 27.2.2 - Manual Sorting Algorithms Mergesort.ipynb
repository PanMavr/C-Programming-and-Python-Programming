{
 "cells": [
  {
   "cell_type": "code",
   "execution_count": 5,
   "id": "a0d77a66",
   "metadata": {},
   "outputs": [
    {
     "name": "stdout",
     "output_type": "stream",
     "text": [
      "Generated and sorted 500000 values in average time: 2.103445 seconds\n"
     ]
    }
   ],
   "source": [
    "import numpy as np\n",
    "import time\n",
    "\n",
    "def generate_and_sort_large_dataset(size):\n",
    "    # Generate a large dataset of random integers\n",
    "    array = np.random.randint(0, 1000000, size=size)\n",
    "\n",
    "    # Shuffle the sequence of values\n",
    "    np.random.shuffle(array)\n",
    "\n",
    "    # Repeat the sorting process to get a more accurate execution time\n",
    "    num_repeats = 10\n",
    "    total_time = 0\n",
    "\n",
    "    for _ in range(num_repeats):\n",
    "        start_time = time.time()\n",
    "\n",
    "        # Sort the array using merge sort\n",
    "        merge_sort(array)\n",
    "\n",
    "        end_time = time.time()\n",
    "        execution_time = end_time - start_time\n",
    "        total_time += execution_time\n",
    "\n",
    "    average_time = total_time / num_repeats\n",
    "\n",
    "    print(f'Generated and sorted {size} values in average time: {average_time:.6f} seconds')\n",
    "\n",
    "def merge_sort(arr):\n",
    "    if len(arr) > 1:\n",
    "        mid = len(arr) // 2\n",
    "        left_half = arr[:mid]\n",
    "        right_half = arr[mid:]\n",
    "\n",
    "        merge_sort(left_half)\n",
    "        merge_sort(right_half)\n",
    "\n",
    "        i = j = k = 0\n",
    "\n",
    "        while i < len(left_half) and j < len(right_half):\n",
    "            if left_half[i] < right_half[j]:\n",
    "                arr[k] = left_half[i]\n",
    "                i += 1\n",
    "            else:\n",
    "                arr[k] = right_half[j]\n",
    "                j += 1\n",
    "            k += 1\n",
    "\n",
    "        while i < len(left_half):\n",
    "            arr[k] = left_half[i]\n",
    "            i += 1\n",
    "            k += 1\n",
    "\n",
    "        while j < len(right_half):\n",
    "            arr[k] = right_half[j]\n",
    "            j += 1\n",
    "            k += 1\n",
    "\n",
    "if __name__ == \"__main__\":\n",
    "    # Specify the size of the dataset (adjust as needed)\n",
    "    dataset_size = 500000\n",
    "\n",
    "    # Generate, shuffle, and sort the large dataset\n",
    "    generate_and_sort_large_dataset(dataset_size)\n"
   ]
  },
  {
   "cell_type": "code",
   "execution_count": null,
   "id": "0498179c",
   "metadata": {},
   "outputs": [],
   "source": []
  }
 ],
 "metadata": {
  "kernelspec": {
   "display_name": "Python 3 (ipykernel)",
   "language": "python",
   "name": "python3"
  },
  "language_info": {
   "codemirror_mode": {
    "name": "ipython",
    "version": 3
   },
   "file_extension": ".py",
   "mimetype": "text/x-python",
   "name": "python",
   "nbconvert_exporter": "python",
   "pygments_lexer": "ipython3",
   "version": "3.9.18"
  }
 },
 "nbformat": 4,
 "nbformat_minor": 5
}
