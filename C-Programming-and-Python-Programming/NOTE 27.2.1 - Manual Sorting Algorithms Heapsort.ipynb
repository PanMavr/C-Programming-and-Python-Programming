{
 "cells": [
  {
   "cell_type": "code",
   "execution_count": 1,
   "id": "66f5de3c",
   "metadata": {},
   "outputs": [
    {
     "name": "stdout",
     "output_type": "stream",
     "text": [
      "Generated and sorted 500000 values using heapsort in average time: 2.322532 seconds\n"
     ]
    }
   ],
   "source": [
    "import random\n",
    "import time\n",
    "\n",
    "def heapify(arr, n, i):\n",
    "    largest = i\n",
    "    left = 2 * i + 1\n",
    "    right = 2 * i + 2\n",
    "\n",
    "    if left < n and arr[left] > arr[largest]:\n",
    "        largest = left\n",
    "\n",
    "    if right < n and arr[right] > arr[largest]:\n",
    "        largest = right\n",
    "\n",
    "    if largest != i:\n",
    "        arr[i], arr[largest] = arr[largest], arr[i]\n",
    "        heapify(arr, n, largest)\n",
    "\n",
    "def heap_sort(arr):\n",
    "    n = len(arr)\n",
    "\n",
    "    # Build a max heap\n",
    "    for i in range(n // 2 - 1, -1, -1):\n",
    "        heapify(arr, n, i)\n",
    "\n",
    "    # Extract elements one by one\n",
    "    for i in range(n - 1, 0, -1):\n",
    "        arr[i], arr[0] = arr[0], arr[i]  # swap\n",
    "        heapify(arr, i, 0)\n",
    "\n",
    "def generate_and_sort_large_dataset(size):\n",
    "    # Generate a large dataset of random integers\n",
    "    array = [random.randint(0, 1000000) for _ in range(size)]\n",
    "\n",
    "    # Shuffle the sequence of values\n",
    "    random.shuffle(array)\n",
    "\n",
    "    # Repeat the sorting process to get a more accurate execution time\n",
    "    num_repeats = 10\n",
    "    total_time = 0\n",
    "\n",
    "    for repeat in range(num_repeats):\n",
    "        start_time = time.time()\n",
    "\n",
    "        # Sort the array using heapsort\n",
    "        heap_sort(array)\n",
    "\n",
    "        end_time = time.time()\n",
    "        total_time += end_time - start_time\n",
    "\n",
    "    average_time = total_time / (num_repeats)\n",
    "\n",
    "    print(f\"Generated and sorted {size} values using heapsort in average time: {average_time:.6f} seconds\")\n",
    "\n",
    "# Specify the size of the dataset (adjust as needed)\n",
    "dataset_size = 500000\n",
    "\n",
    "# Generate, shuffle, and sort the large dataset using heapsort\n",
    "generate_and_sort_large_dataset(dataset_size)\n"
   ]
  },
  {
   "cell_type": "code",
   "execution_count": null,
   "id": "68ec4c42",
   "metadata": {},
   "outputs": [],
   "source": []
  }
 ],
 "metadata": {
  "kernelspec": {
   "display_name": "Python 3 (ipykernel)",
   "language": "python",
   "name": "python3"
  },
  "language_info": {
   "codemirror_mode": {
    "name": "ipython",
    "version": 3
   },
   "file_extension": ".py",
   "mimetype": "text/x-python",
   "name": "python",
   "nbconvert_exporter": "python",
   "pygments_lexer": "ipython3",
   "version": "3.9.18"
  }
 },
 "nbformat": 4,
 "nbformat_minor": 5
}
